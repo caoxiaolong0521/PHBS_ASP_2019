{
 "cells": [
  {
   "cell_type": "markdown",
   "metadata": {},
   "source": [
    "# HW 1: Corporate Bond Pricing (due by 9.17 Tues)"
   ]
  },
  {
   "cell_type": "markdown",
   "metadata": {},
   "source": [
    "We are going to compute the price of a corporate bond (subject to default) with Monte-Carlo simulation. Assume that \n",
    "* the default time of a company follows the exponential distribution with intensity $\\lambda=$__`def_rate`__. \n",
    "* the riskfree interest rate is $r_f=$__`rf_rate`__ and the maturity of the bond is $T=$__`mat`__. \n",
    "* in the case of default, you can recover some portion ($R=$__`recovery_rate`__) of the face value.\n",
    "* the coupon is 0%, i.e., it is a zero-coupon bond.\n",
    "* the face value of the bond is 1.0\n",
    "* use compound rate for discounting; the price of the default-free bond is $e^{-r_f T}$\n",
    "\n",
    "The Problem 1 of the [2017 ASP Midterm Exam](../files/ASP2017_Midterm.pdf) will be helpful.\n",
    "\n",
    "### Instruction to upload your HW\n",
    "* Create a repository named __`PHBS_ASP_2019`__ (and clone it to your PC)\n",
    "* Copy this file to __`PHBS_ASP_2019/HW1/HW1.ipynb`__  (Please use the same name for repository and ipynb file)\n",
    "* Add solution code.\n",
    "* Run your your code to make sure that there's no error.\n",
    "* Upload (commit and sync) your file."
   ]
  },
  {
   "cell_type": "markdown",
   "metadata": {},
   "source": [
    "### 1. First, let's create a pricing function and check the std "
   ]
  },
  {
   "cell_type": "code",
   "execution_count": 30,
   "metadata": {},
   "outputs": [],
   "source": [
    "import numpy as np"
   ]
  },
  {
   "cell_type": "code",
   "execution_count": 31,
   "metadata": {},
   "outputs": [],
   "source": [
    "def_rate = 0.1\n",
    "rf_rate = 0.03\n",
    "recovery = 0.3\n",
    "mat = 10"
   ]
  },
  {
   "cell_type": "markdown",
   "metadata": {},
   "source": []
  },
  {
   "cell_type": "code",
   "execution_count": 32,
   "metadata": {},
   "outputs": [
    {
     "data": {
      "text/plain": [
       "(9.97143173659693, 10.0)"
      ]
     },
     "execution_count": 32,
     "metadata": {},
     "output_type": "execute_result"
    }
   ],
   "source": [
    "# First generate exponential random numbers\n",
    "# Although you can generate directly using fault_time = np.random.exponential(scale=), let's use uniform random numbers.\n",
    "n_sample = 10000\n",
    "U = np.random.uniform(size=n_sample)\n",
    "default_time = -(1/def_rate)*np.log(U)\n",
    "\n",
    "# You can check if the RNs are correct by comparing the means\n",
    "(default_time.mean(), 1/def_rate)"
   ]
  },
  {
   "cell_type": "code",
   "execution_count": 33,
   "metadata": {},
   "outputs": [
    {
     "name": "stdout",
     "output_type": "stream",
     "text": [
      "Result #0: The result of calling my function is 0.44061475978976833\n",
      "Result #1: After calling the function 100 times, the mean is 0.4400637534580529, and the std is 0.0024609039741320614.\n"
     ]
    }
   ],
   "source": [
    "# Put your code here to price the corporate bond\n",
    "def corp_bond(mat=1, def_rate=0.03, rf_rate=0.04, recovery=0.3, n_sample=1e4):\n",
    "    #Step 0: Generate exponential random numbers\n",
    "    U = np.random.uniform(size=n_sample)\n",
    "    default_time = -(1 / def_rate) * np.log(U)\n",
    "    \n",
    "    #Step 1: Calculate the price for each default time\n",
    "    price_list = []\n",
    "    for i in default_time:\n",
    "        if i <= mat:\n",
    "            price = recovery * 1.0 * np.exp(-rf_rate * i)\n",
    "        else:\n",
    "            price = 1.0 * np.exp(-rf_rate * mat)\n",
    "        price_list.append(price)\n",
    "    \n",
    "    #Step 2: Calculate the mean of all the prices\n",
    "    price_array = np.array(price_list)\n",
    "    price_mean = np.mean(price_array)\n",
    "    return price_mean\n",
    "\n",
    "# Call your function\n",
    "price = corp_bond(mat, def_rate, rf_rate, recovery, n_sample)\n",
    "print('Result #0: The result of calling my function is', price)\n",
    "\n",
    "# Find the mean and std by calling the function 100 times. \n",
    "iterations = 100\n",
    "price_list = []\n",
    "for j in range(iterations):\n",
    "    price = corp_bond(mat, def_rate, rf_rate, recovery, n_sample)\n",
    "    price_list.append(price)\n",
    "\n",
    "price_mean = np.mean(price_list)\n",
    "price_std = np.std(price_list)\n",
    "print('Result #1: After calling the function 100 times, \\\n",
    "the mean is {0}, and the std is {1}.'.format(price_mean, price_std))"
   ]
  },
  {
   "cell_type": "markdown",
   "metadata": {},
   "source": [
    "### 2. Now, let's improve the function by reducing the MC variations.\n",
    "1. Use antithetic method: If `U` is uniform random variable, so is `1-U`\n",
    "2. Also shift the RNs to match the mean, `1/def_rate`"
   ]
  },
  {
   "cell_type": "code",
   "execution_count": 34,
   "metadata": {},
   "outputs": [
    {
     "data": {
      "text/plain": [
       "(10.0, 10.0)"
      ]
     },
     "execution_count": 34,
     "metadata": {},
     "output_type": "execute_result"
    }
   ],
   "source": [
    "# For example, antithetic method mean\n",
    "n_sample = 10000\n",
    "U = np.random.uniform(size=int(n_sample/2))\n",
    "default_time = -(1/def_rate)*np.log(np.concatenate((U,1-U),axis=0))\n",
    "\n",
    "# Mean-matching means\n",
    "default_time += 1/def_rate-default_time.mean()\n",
    "(default_time.mean(), 1/def_rate)"
   ]
  },
  {
   "cell_type": "code",
   "execution_count": 35,
   "metadata": {},
   "outputs": [
    {
     "name": "stdout",
     "output_type": "stream",
     "text": [
      "Result #2: Only using antithetic method, the mean is 0.44061965674555414, and the std is 0.001450520603925647.\n",
      "Result #3: Only using mean_match method, the mean is 0.4405781949948064, and the std is 0.0016522257259707174.\n",
      "Result #4: Using both antithetic method and mean_match method, the mean is 0.44034398302802524, and the std is 0.0013666915666453961.\n"
     ]
    }
   ],
   "source": [
    "# No include the two new features: `antithetic` and `mean_match`\n",
    "\n",
    "def corp_bond_cv(mat=1, def_rate=0.03, rf_rate=0.04, recovery=0.3, n_sample=1e4, antithetic=True, mean_match=True):\n",
    "    ### <--\n",
    "    if(antithetic):\n",
    "        U = np.random.uniform(size=int(n_sample/2))\n",
    "        default_time = -(1/def_rate)*np.log(np.concatenate((U,1-U),axis=0))\n",
    "    else:\n",
    "        U = np.random.uniform(size=n_sample)\n",
    "        default_time = -(1 / def_rate) * np.log(U)\n",
    "    \n",
    "    if(mean_match):\n",
    "        default_time += 1/def_rate-default_time.mean()\n",
    "    \n",
    "    #Calculate the price as above\n",
    "    price_list = []\n",
    "    for i in default_time:\n",
    "        if i <= mat:\n",
    "            price = recovery * 1.0 * np.exp(-rf_rate * i)\n",
    "        else:\n",
    "            price = 1.0 * np.exp(-rf_rate * mat)\n",
    "        price_list.append(price)\n",
    "    price_mean = np.mean(price_list)\n",
    "    return price_mean\n",
    "\n",
    "# Find the mean and std by calling the function 100 times for (i) antithetic (ii) mean_match and (iii) both\n",
    "iterations = 100\n",
    "\n",
    "#(i)antithetic\n",
    "antithetic = 1\n",
    "mean_match = 0\n",
    "price_list = []\n",
    "for j in range(iterations):\n",
    "    price = corp_bond_cv(mat, def_rate, rf_rate, recovery, n_sample,\\\n",
    "                        antithetic=antithetic, mean_match=mean_match)\n",
    "    price_list.append(price)\n",
    "\n",
    "price_mean = np.mean(price_list)\n",
    "price_std = np.std(price_list)\n",
    "print('Result #2: Only using antithetic method, \\\n",
    "the mean is {0}, and the std is {1}.'.format(price_mean, price_std))\n",
    "\n",
    "\n",
    "#(ii)mean_match\n",
    "antithetic = 0\n",
    "mean_match = 1\n",
    "price_list = []\n",
    "for j in range(iterations):\n",
    "    price = corp_bond_cv(mat, def_rate, rf_rate, recovery, n_sample,\\\n",
    "                        antithetic=antithetic, mean_match=mean_match)\n",
    "    price_list.append(price)\n",
    "\n",
    "price_mean = np.mean(price_list)\n",
    "price_std = np.std(price_list)\n",
    "print('Result #3: Only using mean_match method, \\\n",
    "the mean is {0}, and the std is {1}.'.format(price_mean, price_std))\n",
    "\n",
    "#(ii)both\n",
    "antithetic = 1\n",
    "mean_match = 1\n",
    "price_list = []\n",
    "for j in range(iterations):\n",
    "    price = corp_bond_cv(mat, def_rate, rf_rate, recovery, n_sample,\\\n",
    "                        antithetic=antithetic, mean_match=mean_match)\n",
    "    price_list.append(price)\n",
    "\n",
    "price_mean = np.mean(price_list)\n",
    "price_std = np.std(price_list)\n",
    "print('Result #4: Using both antithetic method and mean_match method, \\\n",
    "the mean is {0}, and the std is {1}.'.format(price_mean, price_std))"
   ]
  },
  {
   "cell_type": "markdown",
   "metadata": {
    "collapsed": true
   },
   "source": [
    "### 3. Finally, what is the analytic value of the corporate bond? How does it compare to your MC result above?"
   ]
  },
  {
   "cell_type": "code",
   "execution_count": 29,
   "metadata": {},
   "outputs": [
    {
     "name": "stdout",
     "output_type": "stream",
     "text": [
      "The analytic price is 0.44040907156462505\n",
      "The MC result using both antithetic method and mean_match method is 0.4403549291506378\n",
      "The difference between them is 5.4142413987268156e-05\n"
     ]
    }
   ],
   "source": [
    "### Put the analytic expression for the corporate bond price\n",
    "r = def_rate + rf_rate\n",
    "price_analytic = 0.3 * (1 - np.exp(-r*mat)) * def_rate / r + np.exp(-r * mat)\n",
    "print('Result #5: The analytic price is', price_analytic)\n",
    "print('Result #6: The MC result using both antithetic method and mean_match \\\n",
    "method(same as ) is', price_mean)\n",
    "print('Result #7: The difference between them is', price_analytic - price_mean)"
   ]
  },
  {
   "cell_type": "code",
   "execution_count": null,
   "metadata": {},
   "outputs": [],
   "source": []
  }
 ],
 "metadata": {
  "anaconda-cloud": {},
  "kernelspec": {
   "display_name": "Python 3",
   "language": "python",
   "name": "python3"
  },
  "language_info": {
   "codemirror_mode": {
    "name": "ipython",
    "version": 3
   },
   "file_extension": ".py",
   "mimetype": "text/x-python",
   "name": "python",
   "nbconvert_exporter": "python",
   "pygments_lexer": "ipython3",
   "version": "3.6.5"
  }
 },
 "nbformat": 4,
 "nbformat_minor": 1
}
